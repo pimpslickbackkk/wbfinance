{
 "cells": [
  {
   "cell_type": "code",
   "execution_count": null,
   "id": "c5dde3db",
   "metadata": {},
   "outputs": [],
   "source": [
    "from pathlib import Path\n",
    "from report_utils import load_pars, load_book, parse_raw, add_group_and_sort\n",
    "\n",
    "root = Path(\".\")\n",
    "pars_cols = load_pars(root)\n",
    "book = load_book(root)\n",
    "\n",
    "raw = parse_raw(root, pars_cols)\n",
    "grouped = add_group_and_sort(raw.copy(), book)\n",
    "\n",
    "raw.head()\n",
    "grouped.head()\n"
   ]
  }
 ],
 "metadata": {
  "kernelspec": {
   "display_name": ".venv",
   "language": "python",
   "name": "python3"
  },
  "language_info": {
   "codemirror_mode": {
    "name": "ipython",
    "version": 3
   },
   "file_extension": ".py",
   "mimetype": "text/x-python",
   "name": "python",
   "nbconvert_exporter": "python",
   "pygments_lexer": "ipython3",
   "version": "3.13.7"
  }
 },
 "nbformat": 4,
 "nbformat_minor": 5
}
